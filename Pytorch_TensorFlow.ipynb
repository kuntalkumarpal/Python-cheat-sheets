{
 "cells": [
  {
   "cell_type": "markdown",
   "metadata": {},
   "source": [
    "### model.ckpt.data-00000-of-00001: Data loss: not an sstable (bad magic number): perhaps your file is in a different file format and you need to use a different restore operator?"
   ]
  },
  {
   "cell_type": "code",
   "execution_count": 1,
   "metadata": {},
   "outputs": [
    {
     "data": {
      "text/plain": [
       "'If there are three file \\nmodel.ckpt-1000000.data-00000-of-00001  \\nmodel.ckpt-1000000.index  \\nmodel.ckpt-1000000.meta\\n\\nUse the longest prefix name in the model `model.ckpt-1000000`\\nDo not worry that the exact filename does not exist'"
      ]
     },
     "execution_count": 1,
     "metadata": {},
     "output_type": "execute_result"
    }
   ],
   "source": [
    "'''If there are three file \n",
    "model.ckpt-1000000.data-00000-of-00001  \n",
    "model.ckpt-1000000.index  \n",
    "model.ckpt-1000000.meta\n",
    "\n",
    "Use the longest prefix name in the model `model.ckpt-1000000`\n",
    "Do not worry that the exact filename does not exist'''\n"
   ]
  },
  {
   "cell_type": "code",
   "execution_count": null,
   "metadata": {},
   "outputs": [],
   "source": []
  }
 ],
 "metadata": {
  "kernelspec": {
   "display_name": "Python 3",
   "language": "python",
   "name": "python3"
  },
  "language_info": {
   "codemirror_mode": {
    "name": "ipython",
    "version": 3
   },
   "file_extension": ".py",
   "mimetype": "text/x-python",
   "name": "python",
   "nbconvert_exporter": "python",
   "pygments_lexer": "ipython3",
   "version": "3.7.3"
  }
 },
 "nbformat": 4,
 "nbformat_minor": 2
}
